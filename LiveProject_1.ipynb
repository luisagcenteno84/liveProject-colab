{
  "nbformat": 4,
  "nbformat_minor": 0,
  "metadata": {
    "colab": {
      "name": "LiveProject 1.ipynb",
      "provenance": [],
      "collapsed_sections": [],
      "authorship_tag": "ABX9TyN0zkPwdorhhlIu0U+owQ6p",
      "include_colab_link": true
    },
    "kernelspec": {
      "name": "python3",
      "display_name": "Python 3"
    },
    "language_info": {
      "name": "python"
    }
  },
  "cells": [
    {
      "cell_type": "markdown",
      "metadata": {
        "id": "view-in-github",
        "colab_type": "text"
      },
      "source": [
        "<a href=\"https://colab.research.google.com/github/luisagcenteno84/liveProject-colab/blob/main/LiveProject_1.ipynb\" target=\"_parent\"><img src=\"https://colab.research.google.com/assets/colab-badge.svg\" alt=\"Open In Colab\"/></a>"
      ]
    },
    {
      "cell_type": "code",
      "metadata": {
        "id": "FIAOLxzBgqPG"
      },
      "source": [
        ""
      ],
      "execution_count": null,
      "outputs": []
    },
    {
      "cell_type": "markdown",
      "metadata": {
        "id": "soPWemYVgygF"
      },
      "source": [
        "$ a^2 + b^2 = c^2 $\n"
      ]
    },
    {
      "cell_type": "code",
      "metadata": {
        "id": "jnfaPwJhg4lA"
      },
      "source": [
        "import math\n",
        "\n",
        "def hiposquare(a, b):\n",
        "  c = (a**2) + (b**2)\n",
        "  return math.sqrt(c)"
      ],
      "execution_count": null,
      "outputs": []
    },
    {
      "cell_type": "code",
      "metadata": {
        "colab": {
          "base_uri": "https://localhost:8080/"
        },
        "id": "t4-p6h9viQ9j",
        "outputId": "77f376d1-1208-465f-84b3-af1780dc2011"
      },
      "source": [
        "print(hiposquare(1,2))"
      ],
      "execution_count": null,
      "outputs": [
        {
          "output_type": "stream",
          "name": "stdout",
          "text": [
            "2.23606797749979\n"
          ]
        }
      ]
    },
    {
      "cell_type": "code",
      "metadata": {
        "id": "7SY9-T11ifEq"
      },
      "source": [
        "import sklearn as sk\n",
        "import tensorflow as tf\n",
        "import numpy as np\n",
        "import torch as t\n",
        "import pandas as pd"
      ],
      "execution_count": null,
      "outputs": []
    },
    {
      "cell_type": "markdown",
      "metadata": {
        "id": "iy52YjjCkSR8"
      },
      "source": [
        "Naive Bayes"
      ]
    },
    {
      "cell_type": "code",
      "metadata": {
        "colab": {
          "base_uri": "https://localhost:8080/"
        },
        "id": "eQUDcSMaj8ku",
        "outputId": "675a17c7-da51-46b9-9f90-7f463820e337"
      },
      "source": [
        "from google.colab import drive\n",
        "\n",
        "drive.mount('/content/gdrive')"
      ],
      "execution_count": null,
      "outputs": [
        {
          "output_type": "stream",
          "name": "stdout",
          "text": [
            "Mounted at /content/gdrive\n"
          ]
        }
      ]
    },
    {
      "cell_type": "code",
      "metadata": {
        "colab": {
          "base_uri": "https://localhost:8080/"
        },
        "id": "ow7Y95O2k1n5",
        "outputId": "0363e6a4-bc28-414d-818e-833f180d8988"
      },
      "source": [
        "%%sh\n",
        "ls '/content/gdrive/MyDrive/Colab/data'"
      ],
      "execution_count": null,
      "outputs": [
        {
          "output_type": "stream",
          "name": "stdout",
          "text": [
            "SMSSpamCollection.txt\n"
          ]
        }
      ]
    },
    {
      "cell_type": "code",
      "metadata": {
        "colab": {
          "base_uri": "https://localhost:8080/",
          "height": 419
        },
        "id": "hlYwEmKSl0cF",
        "outputId": "e4cb4677-0ec9-425b-d65c-f74fa55479e4"
      },
      "source": [
        "spam = pd.read_csv('/content/gdrive/MyDrive/Colab/data/SMSSpamCollection.txt', sep = '\\t',header=None)\n",
        "\n",
        "spam"
      ],
      "execution_count": null,
      "outputs": [
        {
          "output_type": "execute_result",
          "data": {
            "text/html": [
              "<div>\n",
              "<style scoped>\n",
              "    .dataframe tbody tr th:only-of-type {\n",
              "        vertical-align: middle;\n",
              "    }\n",
              "\n",
              "    .dataframe tbody tr th {\n",
              "        vertical-align: top;\n",
              "    }\n",
              "\n",
              "    .dataframe thead th {\n",
              "        text-align: right;\n",
              "    }\n",
              "</style>\n",
              "<table border=\"1\" class=\"dataframe\">\n",
              "  <thead>\n",
              "    <tr style=\"text-align: right;\">\n",
              "      <th></th>\n",
              "      <th>0</th>\n",
              "      <th>1</th>\n",
              "    </tr>\n",
              "  </thead>\n",
              "  <tbody>\n",
              "    <tr>\n",
              "      <th>0</th>\n",
              "      <td>ham</td>\n",
              "      <td>Go until jurong point, crazy.. Available only ...</td>\n",
              "    </tr>\n",
              "    <tr>\n",
              "      <th>1</th>\n",
              "      <td>ham</td>\n",
              "      <td>Ok lar... Joking wif u oni...</td>\n",
              "    </tr>\n",
              "    <tr>\n",
              "      <th>2</th>\n",
              "      <td>spam</td>\n",
              "      <td>Free entry in 2 a wkly comp to win FA Cup fina...</td>\n",
              "    </tr>\n",
              "    <tr>\n",
              "      <th>3</th>\n",
              "      <td>ham</td>\n",
              "      <td>U dun say so early hor... U c already then say...</td>\n",
              "    </tr>\n",
              "    <tr>\n",
              "      <th>4</th>\n",
              "      <td>ham</td>\n",
              "      <td>Nah I don't think he goes to usf, he lives aro...</td>\n",
              "    </tr>\n",
              "    <tr>\n",
              "      <th>...</th>\n",
              "      <td>...</td>\n",
              "      <td>...</td>\n",
              "    </tr>\n",
              "    <tr>\n",
              "      <th>5567</th>\n",
              "      <td>spam</td>\n",
              "      <td>This is the 2nd time we have tried 2 contact u...</td>\n",
              "    </tr>\n",
              "    <tr>\n",
              "      <th>5568</th>\n",
              "      <td>ham</td>\n",
              "      <td>Will ü b going to esplanade fr home?</td>\n",
              "    </tr>\n",
              "    <tr>\n",
              "      <th>5569</th>\n",
              "      <td>ham</td>\n",
              "      <td>Pity, * was in mood for that. So...any other s...</td>\n",
              "    </tr>\n",
              "    <tr>\n",
              "      <th>5570</th>\n",
              "      <td>ham</td>\n",
              "      <td>The guy did some bitching but I acted like i'd...</td>\n",
              "    </tr>\n",
              "    <tr>\n",
              "      <th>5571</th>\n",
              "      <td>ham</td>\n",
              "      <td>Rofl. Its true to its name</td>\n",
              "    </tr>\n",
              "  </tbody>\n",
              "</table>\n",
              "<p>5572 rows × 2 columns</p>\n",
              "</div>"
            ],
            "text/plain": [
              "         0                                                  1\n",
              "0      ham  Go until jurong point, crazy.. Available only ...\n",
              "1      ham                      Ok lar... Joking wif u oni...\n",
              "2     spam  Free entry in 2 a wkly comp to win FA Cup fina...\n",
              "3      ham  U dun say so early hor... U c already then say...\n",
              "4      ham  Nah I don't think he goes to usf, he lives aro...\n",
              "...    ...                                                ...\n",
              "5567  spam  This is the 2nd time we have tried 2 contact u...\n",
              "5568   ham               Will ü b going to esplanade fr home?\n",
              "5569   ham  Pity, * was in mood for that. So...any other s...\n",
              "5570   ham  The guy did some bitching but I acted like i'd...\n",
              "5571   ham                         Rofl. Its true to its name\n",
              "\n",
              "[5572 rows x 2 columns]"
            ]
          },
          "metadata": {},
          "execution_count": 38
        }
      ]
    },
    {
      "cell_type": "code",
      "metadata": {
        "colab": {
          "base_uri": "https://localhost:8080/"
        },
        "id": "jeFSQ7aWmvVO",
        "outputId": "de0fdc1a-bbc1-4a13-a628-2a61173f29a5"
      },
      "source": [
        "category = spam[0]\n",
        "\n",
        "category"
      ],
      "execution_count": null,
      "outputs": [
        {
          "output_type": "execute_result",
          "data": {
            "text/plain": [
              "0        ham\n",
              "1        ham\n",
              "2       spam\n",
              "3        ham\n",
              "4        ham\n",
              "        ... \n",
              "5567    spam\n",
              "5568     ham\n",
              "5569     ham\n",
              "5570     ham\n",
              "5571     ham\n",
              "Name: 0, Length: 5572, dtype: object"
            ]
          },
          "metadata": {},
          "execution_count": 40
        }
      ]
    },
    {
      "cell_type": "code",
      "metadata": {
        "colab": {
          "base_uri": "https://localhost:8080/"
        },
        "id": "MSVrQBz8oqy3",
        "outputId": "8c2029f1-a6be-4a15-ecb6-761b6db06204"
      },
      "source": [
        "message = spam[1].str.lower().str.replace('[^a-zA-Z ]', '')\n",
        "\n",
        "message"
      ],
      "execution_count": null,
      "outputs": [
        {
          "output_type": "execute_result",
          "data": {
            "text/plain": [
              "0       go until jurong point crazy available only in ...\n",
              "1                                 ok lar joking wif u oni\n",
              "2       free entry in  a wkly comp to win fa cup final...\n",
              "3             u dun say so early hor u c already then say\n",
              "4       nah i dont think he goes to usf he lives aroun...\n",
              "                              ...                        \n",
              "5567    this is the nd time we have tried  contact u u...\n",
              "5568                   will  b going to esplanade fr home\n",
              "5569    pity  was in mood for that soany other suggest...\n",
              "5570    the guy did some bitching but i acted like id ...\n",
              "5571                            rofl its true to its name\n",
              "Name: 1, Length: 5572, dtype: object"
            ]
          },
          "metadata": {},
          "execution_count": 45
        }
      ]
    },
    {
      "cell_type": "code",
      "metadata": {
        "colab": {
          "base_uri": "https://localhost:8080/"
        },
        "id": "9xlwhwnHovAw",
        "outputId": "839c904f-1c47-4101-e287-0030d7abe4a5"
      },
      "source": [
        "from sklearn.model_selection import train_test_split\n",
        "\n",
        "cat_train, cat_test, msg_train_raw, msg_test_raw = train_test_split(category,message,test_size=0.2, random_state=42)\n",
        "\n",
        "cat_train"
      ],
      "execution_count": null,
      "outputs": [
        {
          "output_type": "execute_result",
          "data": {
            "text/plain": [
              "1978    spam\n",
              "3989     ham\n",
              "3935     ham\n",
              "4078     ham\n",
              "4086    spam\n",
              "        ... \n",
              "3772     ham\n",
              "5191     ham\n",
              "5226     ham\n",
              "5390     ham\n",
              "860      ham\n",
              "Name: 0, Length: 4457, dtype: object"
            ]
          },
          "metadata": {},
          "execution_count": 74
        }
      ]
    },
    {
      "cell_type": "code",
      "metadata": {
        "colab": {
          "base_uri": "https://localhost:8080/"
        },
        "id": "HAionmtspxJg",
        "outputId": "26f053d8-caf7-4db2-a9ab-4da0bd9df9b9"
      },
      "source": [
        "cat_test"
      ],
      "execution_count": null,
      "outputs": [
        {
          "output_type": "execute_result",
          "data": {
            "text/plain": [
              "3245    ham\n",
              "944     ham\n",
              "1044    ham\n",
              "2484    ham\n",
              "812     ham\n",
              "       ... \n",
              "4264    ham\n",
              "2439    ham\n",
              "5556    ham\n",
              "4205    ham\n",
              "4293    ham\n",
              "Name: 0, Length: 1115, dtype: object"
            ]
          },
          "metadata": {},
          "execution_count": 50
        }
      ]
    },
    {
      "cell_type": "code",
      "metadata": {
        "colab": {
          "base_uri": "https://localhost:8080/"
        },
        "id": "wEi_ZKHGp-CB",
        "outputId": "4c922825-9eee-4feb-80aa-e4a36d1d4f92"
      },
      "source": [
        "msg_train_raw"
      ],
      "execution_count": null,
      "outputs": [
        {
          "output_type": "execute_result",
          "data": {
            "text/plain": [
              "1978    reply to win  weekly where will the  fifa worl...\n",
              "3989    hello sort of out in town already that  so don...\n",
              "3935       how come guoyang go n tell her then u told her\n",
              "4078    hey sathya till now we dint meet not even a si...\n",
              "4086    orange brings you ringtones from all time char...\n",
              "                              ...                        \n",
              "3772    hi wlcome back did wonder if you got eaten by ...\n",
              "5191                                 sorry ill call later\n",
              "5226                prabhaim sorydarealyfrm heart im sory\n",
              "5390                           nt joking seriously i told\n",
              "860               did he just say somebody is named tampa\n",
              "Name: 1, Length: 4457, dtype: object"
            ]
          },
          "metadata": {},
          "execution_count": 75
        }
      ]
    },
    {
      "cell_type": "code",
      "metadata": {
        "colab": {
          "base_uri": "https://localhost:8080/"
        },
        "id": "7EpDv45-qEiO",
        "outputId": "a0a10e73-4050-4647-dcb5-1e06cdd16c34"
      },
      "source": [
        "msg_test_raw"
      ],
      "execution_count": null,
      "outputs": [
        {
          "output_type": "execute_result",
          "data": {
            "text/plain": [
              "3245    squeeeeeze this is christmas hug if u lik my f...\n",
              "944     and also ive sorta blown him off a couple time...\n",
              "1044    mmm thats better now i got a roast down me id ...\n",
              "2484        mm have some kanji dont eat anything heavy ok\n",
              "812     so theres a ring that comes with the guys cost...\n",
              "                              ...                        \n",
              "4264    den only weekdays got special price haiz cant ...\n",
              "2439             i not busy juz dun wan  go so early hee \n",
              "5556    yes i have so thats why u texted pshewmissing ...\n",
              "4205    how are you enjoying this semester take care b...\n",
              "4293                                                  gwr\n",
              "Name: 1, Length: 1115, dtype: object"
            ]
          },
          "metadata": {},
          "execution_count": 76
        }
      ]
    },
    {
      "cell_type": "code",
      "metadata": {
        "colab": {
          "base_uri": "https://localhost:8080/"
        },
        "id": "bkn-EUR1tnMU",
        "outputId": "c7323a74-1cd3-4f6d-e54d-99e036b6ccc7"
      },
      "source": [
        "msg_train_raw.to_numpy()"
      ],
      "execution_count": null,
      "outputs": [
        {
          "output_type": "execute_result",
          "data": {
            "text/plain": [
              "array(['reply to win  weekly where will the  fifa world cup be held send stop to  to end service',\n",
              "       'hello sort of out in town already that  so dont rush home i am eating nachos will let you know eta',\n",
              "       'how come guoyang go n tell her then u told her', ...,\n",
              "       'prabhaim sorydarealyfrm heart im sory',\n",
              "       'nt joking seriously i told',\n",
              "       'did he just say somebody is named tampa'], dtype=object)"
            ]
          },
          "metadata": {},
          "execution_count": 77
        }
      ]
    },
    {
      "cell_type": "code",
      "metadata": {
        "id": "1P3PHgWCqGAV"
      },
      "source": [
        "from sklearn.feature_extraction.text import CountVectorizer\n",
        "\n",
        "vectorizer = CountVectorizer()\n",
        "\n",
        "msg_train = vectorizer.fit_transform(msg_train_raw.to_numpy())\n",
        "\n",
        "vectorizer.get_feature_names()\n",
        "\n",
        "vectorizer_trained = CountVectorizer(vocabulary = vectorizer.vocabulary_)\n",
        "\n",
        "msg_test = vectorizer_trained.fit_transform(msg_test_raw.to_numpy())\n"
      ],
      "execution_count": null,
      "outputs": []
    },
    {
      "cell_type": "code",
      "metadata": {
        "id": "sCyJ0koHrHiX"
      },
      "source": [
        "import pickle\n",
        "\n",
        "to_be_saved = [msg_train, msg_test, cat_train, cat_test]\n",
        "\n",
        "with open('/content/gdrive/MyDrive/Colab/data/vectorized_data.p', 'wb') as outfile:\n",
        "  pickle.dump(to_be_saved, outfile)"
      ],
      "execution_count": null,
      "outputs": []
    },
    {
      "cell_type": "code",
      "metadata": {
        "colab": {
          "base_uri": "https://localhost:8080/"
        },
        "id": "J8JfHv5zrj1O",
        "outputId": "4698b480-379f-4731-a5bf-2b0c4f987248"
      },
      "source": [
        "from sklearn.naive_bayes import MultinomialNB\n",
        "\n",
        "clf = MultinomialNB()\n",
        "\n",
        "clf.fit(msg_train, cat_train)"
      ],
      "execution_count": null,
      "outputs": [
        {
          "output_type": "execute_result",
          "data": {
            "text/plain": [
              "MultinomialNB(alpha=1.0, class_prior=None, fit_prior=True)"
            ]
          },
          "metadata": {},
          "execution_count": 81
        }
      ]
    },
    {
      "cell_type": "code",
      "metadata": {
        "colab": {
          "base_uri": "https://localhost:8080/"
        },
        "id": "R1HObj7nw842",
        "outputId": "aaac3b9c-f906-41c8-a686-3a01b20d8882"
      },
      "source": [
        "from joblib import dump, load\n",
        "\n",
        "dump(clf, '/content/gdrive/MyDrive/Colab/data/model_MultinomialNB')\n"
      ],
      "execution_count": null,
      "outputs": [
        {
          "output_type": "execute_result",
          "data": {
            "text/plain": [
              "['/content/gdrive/MyDrive/Colab/data/model_MultinomialNB']"
            ]
          },
          "metadata": {},
          "execution_count": 83
        }
      ]
    },
    {
      "cell_type": "code",
      "metadata": {
        "id": "Nd1gqx0ixFKF"
      },
      "source": [
        "\n",
        "classifier = load('/content/gdrive/MyDrive/Colab/data/model_MultinomialNB')\n",
        "\n",
        "cat_pred = classifier.predict(msg_test)"
      ],
      "execution_count": null,
      "outputs": []
    },
    {
      "cell_type": "code",
      "metadata": {
        "colab": {
          "base_uri": "https://localhost:8080/"
        },
        "id": "BgZQh2YIxvZ4",
        "outputId": "18ae8509-c299-4122-ea52-c60d670230ea"
      },
      "source": [
        "from sklearn.metrics import classification_report \n",
        "\n",
        "print(classification_report(cat_test, cat_pred))"
      ],
      "execution_count": null,
      "outputs": [
        {
          "output_type": "stream",
          "name": "stdout",
          "text": [
            "              precision    recall  f1-score   support\n",
            "\n",
            "         ham       0.99      1.00      0.99       966\n",
            "        spam       1.00      0.91      0.95       149\n",
            "\n",
            "    accuracy                           0.99      1115\n",
            "   macro avg       0.99      0.96      0.97      1115\n",
            "weighted avg       0.99      0.99      0.99      1115\n",
            "\n"
          ]
        }
      ]
    },
    {
      "cell_type": "code",
      "metadata": {
        "id": "MclbZauhx8sr"
      },
      "source": [
        ""
      ],
      "execution_count": null,
      "outputs": []
    }
  ]
}